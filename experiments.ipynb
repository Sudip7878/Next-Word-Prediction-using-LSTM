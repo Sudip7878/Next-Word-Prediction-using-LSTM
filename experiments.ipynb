{
 "cells": [
  {
   "cell_type": "code",
   "execution_count": 1,
   "id": "95373cdd",
   "metadata": {},
   "outputs": [
    {
     "name": "stderr",
     "output_type": "stream",
     "text": [
      "[nltk_data] Downloading package gutenberg to\n",
      "[nltk_data]     C:\\Users\\SUDIP\\AppData\\Roaming\\nltk_data...\n",
      "[nltk_data]   Package gutenberg is already up-to-date!\n"
     ]
    }
   ],
   "source": [
    "## Data collection\n",
    "import nltk\n",
    "nltk.download('gutenberg')\n",
    "from nltk.corpus import gutenberg\n",
    "import pandas as pd\n",
    "\n",
    "# Load the Gutenberg corpus\n",
    "data = gutenberg.raw('shakespeare-hamlet.txt')\n",
    "# save to a file\n",
    "with open('hamlet.txt', 'w') as f:\n",
    "    f.write(data)"
   ]
  },
  {
   "cell_type": "code",
   "execution_count": 2,
   "id": "7ed5b7f9",
   "metadata": {},
   "outputs": [
    {
     "name": "stdout",
     "output_type": "stream",
     "text": [
      "WARNING:tensorflow:From e:\\AI_ML Projects\\Deep Learning NLP\\venv\\Lib\\site-packages\\keras\\src\\losses.py:2976: The name tf.losses.sparse_softmax_cross_entropy is deprecated. Please use tf.compat.v1.losses.sparse_softmax_cross_entropy instead.\n",
      "\n"
     ]
    },
    {
     "data": {
      "text/plain": [
       "4818"
      ]
     },
     "execution_count": 2,
     "metadata": {},
     "output_type": "execute_result"
    }
   ],
   "source": [
    "## Data preprocessing\n",
    "import numpy as np\n",
    "from tensorflow.keras.preprocessing.text import Tokenizer #encode text as sequences of integers\n",
    "from tensorflow.keras.preprocessing.sequence import pad_sequences ##ensure all sequences have the same length\n",
    "from sklearn.model_selection import train_test_split\n",
    "\n",
    "# Load the text data\n",
    "with open('hamlet.txt', 'r') as f:\n",
    "    text = f.read().lower()\n",
    "\n",
    "# Tokenize the text - creating indexes for words\n",
    "tokenizer = Tokenizer()\n",
    "tokenizer.fit_on_texts([text])\n",
    "total_words = len(tokenizer.word_index) + 1\n",
    "total_words"
   ]
  },
  {
   "cell_type": "code",
   "execution_count": 3,
   "id": "938f0074",
   "metadata": {},
   "outputs": [],
   "source": [
    "# create input sequences\n",
    "input_sequences = []\n",
    "for line in text.split('\\n'):\n",
    "    token_list = tokenizer.texts_to_sequences([line])[0]\n",
    "    for i in range(1, len(token_list)):\n",
    "        n_gram_sequence = token_list[:i + 1]\n",
    "        input_sequences.append(n_gram_sequence)"
   ]
  },
  {
   "cell_type": "code",
   "execution_count": 4,
   "id": "68e2ded0",
   "metadata": {},
   "outputs": [],
   "source": [
    "max_sequence_len = max(len(x) for x in input_sequences)\n"
   ]
  },
  {
   "cell_type": "code",
   "execution_count": null,
   "id": "26ea1257",
   "metadata": {},
   "outputs": [
    {
     "ename": "NameError",
     "evalue": "name 'max_sequence_length' is not defined",
     "output_type": "error",
     "traceback": [
      "\u001b[31m---------------------------------------------------------------------------\u001b[39m",
      "\u001b[31mNameError\u001b[39m                                 Traceback (most recent call last)",
      "\u001b[36mCell\u001b[39m\u001b[36m \u001b[39m\u001b[32mIn[8]\u001b[39m\u001b[32m, line 1\u001b[39m\n\u001b[32m----> \u001b[39m\u001b[32m1\u001b[39m input_sequences = np.array(pad_sequences(input_sequences, maxlen=\u001b[43mmax_sequence_length\u001b[49m, padding=\u001b[33m'\u001b[39m\u001b[33mpre\u001b[39m\u001b[33m'\u001b[39m))\n\u001b[32m      2\u001b[39m input_sequences\n",
      "\u001b[31mNameError\u001b[39m: name 'max_sequence_length' is not defined"
     ]
    }
   ],
   "source": [
    "#input_sequences = np.array(pad_sequences(input_sequences, maxlen=max_sequence_length, padding='pre'))\n"
   ]
  },
  {
   "cell_type": "code",
   "execution_count": 5,
   "id": "d3ffa01f",
   "metadata": {},
   "outputs": [
    {
     "data": {
      "text/plain": [
       "array([[   0,    0,    0, ...,    0,    1,  687],\n",
       "       [   0,    0,    0, ...,    1,  687,    4],\n",
       "       [   0,    0,    0, ...,  687,    4,   45],\n",
       "       ...,\n",
       "       [   0,    0,    0, ...,    4,   45, 1047],\n",
       "       [   0,    0,    0, ...,   45, 1047,    4],\n",
       "       [   0,    0,    0, ..., 1047,    4,  193]])"
      ]
     },
     "execution_count": 5,
     "metadata": {},
     "output_type": "execute_result"
    }
   ],
   "source": [
    "input_sequences = pad_sequences(input_sequences, maxlen=14, padding='pre')#ensure all sequences have the same length\n",
    "input_sequences"
   ]
  },
  {
   "cell_type": "code",
   "execution_count": 6,
   "id": "156165e9",
   "metadata": {},
   "outputs": [],
   "source": [
    "# create predictors and label\n",
    "import tensorflow as tf\n",
    "X, y = input_sequences[:, :-1], input_sequences[:, -1]\n",
    "y = tf.keras.utils.to_categorical(y, num_classes=total_words)"
   ]
  },
  {
   "cell_type": "code",
   "execution_count": 7,
   "id": "9df9beff",
   "metadata": {},
   "outputs": [],
   "source": [
    "# Split the data into training and testing sets\n",
    "X_train, X_test, y_train, y_test = train_test_split(X, y, test_size=0.2, random_state=42)"
   ]
  },
  {
   "cell_type": "code",
   "execution_count": 16,
   "id": "5d1d97c7",
   "metadata": {},
   "outputs": [],
   "source": [
    "# Define early stopping callback\n",
    "early_stopping = tf.keras.callbacks.EarlyStopping(monitor='val_loss', patience=3, restore_best_weights=True)"
   ]
  },
  {
   "cell_type": "code",
   "execution_count": 8,
   "id": "528f5ec2",
   "metadata": {},
   "outputs": [
    {
     "name": "stdout",
     "output_type": "stream",
     "text": [
      "WARNING:tensorflow:From e:\\AI_ML Projects\\Deep Learning NLP\\venv\\Lib\\site-packages\\keras\\src\\backend.py:873: The name tf.get_default_graph is deprecated. Please use tf.compat.v1.get_default_graph instead.\n",
      "\n",
      "WARNING:tensorflow:From e:\\AI_ML Projects\\Deep Learning NLP\\venv\\Lib\\site-packages\\keras\\src\\optimizers\\__init__.py:309: The name tf.train.Optimizer is deprecated. Please use tf.compat.v1.train.Optimizer instead.\n",
      "\n",
      "Model: \"sequential\"\n",
      "_________________________________________________________________\n",
      " Layer (type)                Output Shape              Param #   \n",
      "=================================================================\n",
      " embedding (Embedding)       (None, 13, 100)           481800    \n",
      "                                                                 \n",
      " lstm (LSTM)                 (None, 13, 150)           150600    \n",
      "                                                                 \n",
      " dropout (Dropout)           (None, 13, 150)           0         \n",
      "                                                                 \n",
      " lstm_1 (LSTM)               (None, 100)               100400    \n",
      "                                                                 \n",
      " dense (Dense)               (None, 4818)              486618    \n",
      "                                                                 \n",
      "=================================================================\n",
      "Total params: 1219418 (4.65 MB)\n",
      "Trainable params: 1219418 (4.65 MB)\n",
      "Non-trainable params: 0 (0.00 Byte)\n",
      "_________________________________________________________________\n"
     ]
    }
   ],
   "source": [
    "# Train the LSTM model\n",
    "from tensorflow.keras.models import Sequential\n",
    "from tensorflow.keras.layers import Embedding, LSTM, Dense, Dropout\n",
    "# Define the model\n",
    "model = Sequential()\n",
    "model.add(Embedding(total_words, 100, input_length=13))\n",
    "model.add(LSTM(150, return_sequences=True))\n",
    "model.add(Dropout(0.2))\n",
    "model.add(LSTM(100))\n",
    "model.add(Dense(total_words, activation='softmax'))\n",
    "\n",
    "# Compile the model\n",
    "model.compile(loss='categorical_crossentropy', optimizer='adam', metrics=['accuracy'])\n",
    "model.summary()"
   ]
  },
  {
   "cell_type": "code",
   "execution_count": 19,
   "id": "5b7ab3f2",
   "metadata": {},
   "outputs": [
    {
     "name": "stdout",
     "output_type": "stream",
     "text": [
      "Epoch 1/50\n",
      "644/644 [==============================] - 29s 45ms/step - loss: 6.4497 - accuracy: 0.0396 - val_loss: 6.8833 - val_accuracy: 0.0404\n",
      "Epoch 2/50\n",
      "644/644 [==============================] - 37s 58ms/step - loss: 6.2873 - accuracy: 0.0475 - val_loss: 6.9265 - val_accuracy: 0.0493\n",
      "Epoch 3/50\n",
      "644/644 [==============================] - 37s 58ms/step - loss: 6.1565 - accuracy: 0.0512 - val_loss: 6.9529 - val_accuracy: 0.0488\n",
      "Epoch 4/50\n",
      "644/644 [==============================] - 32s 50ms/step - loss: 6.0420 - accuracy: 0.0529 - val_loss: 6.9610 - val_accuracy: 0.0513\n",
      "Epoch 5/50\n",
      "644/644 [==============================] - 32s 50ms/step - loss: 5.9257 - accuracy: 0.0573 - val_loss: 6.9978 - val_accuracy: 0.0573\n",
      "Epoch 6/50\n",
      "644/644 [==============================] - 33s 52ms/step - loss: 5.8031 - accuracy: 0.0610 - val_loss: 7.0707 - val_accuracy: 0.0581\n",
      "Epoch 7/50\n",
      "644/644 [==============================] - 33s 51ms/step - loss: 5.6752 - accuracy: 0.0670 - val_loss: 7.1112 - val_accuracy: 0.0651\n",
      "Epoch 8/50\n",
      "644/644 [==============================] - 33s 51ms/step - loss: 5.5403 - accuracy: 0.0759 - val_loss: 7.2169 - val_accuracy: 0.0674\n",
      "Epoch 9/50\n",
      "644/644 [==============================] - 34s 52ms/step - loss: 5.4130 - accuracy: 0.0814 - val_loss: 7.2626 - val_accuracy: 0.0672\n",
      "Epoch 10/50\n",
      "644/644 [==============================] - 33s 51ms/step - loss: 5.2899 - accuracy: 0.0911 - val_loss: 7.3998 - val_accuracy: 0.0676\n",
      "Epoch 11/50\n",
      "644/644 [==============================] - 39s 60ms/step - loss: 5.1763 - accuracy: 0.0958 - val_loss: 7.4809 - val_accuracy: 0.0655\n",
      "Epoch 12/50\n",
      "644/644 [==============================] - 37s 57ms/step - loss: 5.0586 - accuracy: 0.1021 - val_loss: 7.5785 - val_accuracy: 0.0670\n",
      "Epoch 13/50\n",
      "644/644 [==============================] - 178s 277ms/step - loss: 4.9484 - accuracy: 0.1073 - val_loss: 7.7157 - val_accuracy: 0.0674\n",
      "Epoch 14/50\n",
      "644/644 [==============================] - 30s 47ms/step - loss: 4.8417 - accuracy: 0.1128 - val_loss: 7.8343 - val_accuracy: 0.0682\n",
      "Epoch 15/50\n",
      "644/644 [==============================] - 34s 53ms/step - loss: 4.7366 - accuracy: 0.1179 - val_loss: 7.9460 - val_accuracy: 0.0637\n",
      "Epoch 16/50\n",
      "644/644 [==============================] - 31s 48ms/step - loss: 4.6333 - accuracy: 0.1251 - val_loss: 8.0772 - val_accuracy: 0.0629\n",
      "Epoch 17/50\n",
      "644/644 [==============================] - 31s 48ms/step - loss: 4.5348 - accuracy: 0.1291 - val_loss: 8.2177 - val_accuracy: 0.0631\n",
      "Epoch 18/50\n",
      "644/644 [==============================] - 31s 49ms/step - loss: 4.4350 - accuracy: 0.1343 - val_loss: 8.3298 - val_accuracy: 0.0624\n",
      "Epoch 19/50\n",
      "644/644 [==============================] - 31s 49ms/step - loss: 4.3420 - accuracy: 0.1440 - val_loss: 8.4655 - val_accuracy: 0.0626\n",
      "Epoch 20/50\n",
      "644/644 [==============================] - 31s 49ms/step - loss: 4.2464 - accuracy: 0.1526 - val_loss: 8.5684 - val_accuracy: 0.0596\n",
      "Epoch 21/50\n",
      "644/644 [==============================] - 31s 48ms/step - loss: 4.1624 - accuracy: 0.1616 - val_loss: 8.7213 - val_accuracy: 0.0577\n",
      "Epoch 22/50\n",
      "644/644 [==============================] - 31s 49ms/step - loss: 4.0779 - accuracy: 0.1743 - val_loss: 8.8334 - val_accuracy: 0.0596\n",
      "Epoch 23/50\n",
      "644/644 [==============================] - 34s 53ms/step - loss: 3.9946 - accuracy: 0.1882 - val_loss: 8.9347 - val_accuracy: 0.0596\n",
      "Epoch 24/50\n",
      "644/644 [==============================] - 34s 52ms/step - loss: 3.9191 - accuracy: 0.1993 - val_loss: 9.0908 - val_accuracy: 0.0575\n",
      "Epoch 25/50\n",
      "644/644 [==============================] - 36s 56ms/step - loss: 3.8460 - accuracy: 0.2128 - val_loss: 9.1783 - val_accuracy: 0.0593\n",
      "Epoch 26/50\n",
      "644/644 [==============================] - 32s 49ms/step - loss: 3.7773 - accuracy: 0.2249 - val_loss: 9.3064 - val_accuracy: 0.0577\n",
      "Epoch 27/50\n",
      "644/644 [==============================] - 31s 48ms/step - loss: 3.7086 - accuracy: 0.2350 - val_loss: 9.4202 - val_accuracy: 0.0575\n",
      "Epoch 28/50\n",
      "644/644 [==============================] - 31s 49ms/step - loss: 3.6464 - accuracy: 0.2458 - val_loss: 9.5097 - val_accuracy: 0.0558\n",
      "Epoch 29/50\n",
      "644/644 [==============================] - 31s 48ms/step - loss: 3.5806 - accuracy: 0.2571 - val_loss: 9.6580 - val_accuracy: 0.0560\n",
      "Epoch 30/50\n",
      "644/644 [==============================] - 31s 49ms/step - loss: 3.5225 - accuracy: 0.2649 - val_loss: 9.7324 - val_accuracy: 0.0569\n",
      "Epoch 31/50\n",
      "644/644 [==============================] - 31s 48ms/step - loss: 3.4694 - accuracy: 0.2750 - val_loss: 9.8001 - val_accuracy: 0.0550\n",
      "Epoch 32/50\n",
      "644/644 [==============================] - 31s 49ms/step - loss: 3.4086 - accuracy: 0.2865 - val_loss: 9.8960 - val_accuracy: 0.0534\n",
      "Epoch 33/50\n",
      "644/644 [==============================] - 36s 56ms/step - loss: 3.3570 - accuracy: 0.2959 - val_loss: 9.9994 - val_accuracy: 0.0561\n",
      "Epoch 34/50\n",
      "644/644 [==============================] - 34s 53ms/step - loss: 3.3052 - accuracy: 0.3041 - val_loss: 10.0636 - val_accuracy: 0.0544\n",
      "Epoch 35/50\n",
      "644/644 [==============================] - 829s 1s/step - loss: 3.2545 - accuracy: 0.3125 - val_loss: 10.2071 - val_accuracy: 0.0565\n",
      "Epoch 36/50\n",
      "644/644 [==============================] - 31s 48ms/step - loss: 3.2052 - accuracy: 0.3199 - val_loss: 10.2948 - val_accuracy: 0.0552\n",
      "Epoch 37/50\n",
      "644/644 [==============================] - 31s 47ms/step - loss: 3.1581 - accuracy: 0.3300 - val_loss: 10.4030 - val_accuracy: 0.0519\n",
      "Epoch 38/50\n",
      "644/644 [==============================] - 30s 47ms/step - loss: 3.1136 - accuracy: 0.3380 - val_loss: 10.4423 - val_accuracy: 0.0528\n",
      "Epoch 39/50\n",
      "644/644 [==============================] - 31s 49ms/step - loss: 3.0709 - accuracy: 0.3477 - val_loss: 10.5195 - val_accuracy: 0.0544\n",
      "Epoch 40/50\n",
      "644/644 [==============================] - 31s 49ms/step - loss: 3.0294 - accuracy: 0.3549 - val_loss: 10.6090 - val_accuracy: 0.0569\n",
      "Epoch 41/50\n",
      "644/644 [==============================] - 31s 49ms/step - loss: 2.9844 - accuracy: 0.3590 - val_loss: 10.6411 - val_accuracy: 0.0532\n",
      "Epoch 42/50\n",
      "644/644 [==============================] - 31s 49ms/step - loss: 2.9417 - accuracy: 0.3672 - val_loss: 10.7523 - val_accuracy: 0.0534\n",
      "Epoch 43/50\n",
      "644/644 [==============================] - 34s 53ms/step - loss: 2.9119 - accuracy: 0.3745 - val_loss: 10.8522 - val_accuracy: 0.0542\n",
      "Epoch 44/50\n",
      "644/644 [==============================] - 34s 53ms/step - loss: 2.8645 - accuracy: 0.3820 - val_loss: 10.8925 - val_accuracy: 0.0538\n",
      "Epoch 45/50\n",
      "644/644 [==============================] - 180s 279ms/step - loss: 2.8253 - accuracy: 0.3900 - val_loss: 10.9549 - val_accuracy: 0.0544\n",
      "Epoch 46/50\n",
      "644/644 [==============================] - 32s 49ms/step - loss: 2.7842 - accuracy: 0.3932 - val_loss: 11.0339 - val_accuracy: 0.0540\n",
      "Epoch 47/50\n",
      "644/644 [==============================] - 30s 46ms/step - loss: 2.7497 - accuracy: 0.4018 - val_loss: 11.1147 - val_accuracy: 0.0530\n",
      "Epoch 48/50\n",
      "644/644 [==============================] - 31s 48ms/step - loss: 2.7091 - accuracy: 0.4092 - val_loss: 11.1622 - val_accuracy: 0.0513\n",
      "Epoch 49/50\n",
      "644/644 [==============================] - 34s 53ms/step - loss: 2.6746 - accuracy: 0.4175 - val_loss: 11.2598 - val_accuracy: 0.0527\n",
      "Epoch 50/50\n",
      "644/644 [==============================] - 35s 54ms/step - loss: 2.6393 - accuracy: 0.4207 - val_loss: 11.3234 - val_accuracy: 0.0507\n"
     ]
    }
   ],
   "source": [
    "# Train the model\n",
    "history=model.fit(X_train,y_train,epochs=50,validation_data=(X_test,y_test),verbose=1)"
   ]
  },
  {
   "cell_type": "code",
   "execution_count": 20,
   "id": "fe61b356",
   "metadata": {},
   "outputs": [
    {
     "name": "stderr",
     "output_type": "stream",
     "text": [
      "e:\\AI_ML Projects\\Deep Learning NLP\\venv\\Lib\\site-packages\\keras\\src\\engine\\training.py:3103: UserWarning: You are saving your model as an HDF5 file via `model.save()`. This file format is considered legacy. We recommend using instead the native Keras format, e.g. `model.save('my_model.keras')`.\n",
      "  saving_api.save_model(\n"
     ]
    }
   ],
   "source": [
    "# save the model\n",
    "model.save('lstm_hamlet_model.h5')"
   ]
  },
  {
   "cell_type": "code",
   "execution_count": 13,
   "id": "1ce47f8f",
   "metadata": {},
   "outputs": [],
   "source": [
    "# function to predict the next word\n",
    "def predict_next_word(model, tokenizer, text, max_sequence_len=14):\n",
    "    # Tokenize the input text\n",
    "    token_list = tokenizer.texts_to_sequences([text])[0]\n",
    "    if len(token_list) >= max_sequence_len:\n",
    "        token_list = token_list[-(max_sequence_len-1):]  # Keep only the last max_sequence_len-1 tokens  \n",
    "    token_list = pad_sequences([token_list], maxlen=max_sequence_len-1, padding='pre')\n",
    "    predicted= model.predict(token_list, verbose=0)\n",
    "    predict_next_index = np.argmax(predicted, axis=1)\n",
    "\n",
    "    for word, index in tokenizer.word_index.items():\n",
    "        if index == predict_next_index:\n",
    "            return word\n",
    "    \n",
    "    return None"
   ]
  },
  {
   "cell_type": "code",
   "execution_count": 17,
   "id": "2d2d4a8c",
   "metadata": {},
   "outputs": [
    {
     "name": "stdout",
     "output_type": "stream",
     "text": [
      "Input text: Bar. Long liue the\n",
      "Predicted next word: fishmonger\n"
     ]
    }
   ],
   "source": [
    "input_text = \"Bar. Long liue the\"\n",
    "print(f\"Input text: {input_text}\")\n",
    "\n",
    "max_sequence_len = 14\n",
    "predicted_word = predict_next_word(model, tokenizer, input_text, max_sequence_len)\n",
    "print(f\"Predicted next word: {predicted_word}\")\n"
   ]
  },
  {
   "cell_type": "code",
   "execution_count": 16,
   "id": "b0607a50",
   "metadata": {},
   "outputs": [],
   "source": [
    "## save the tokenizer\n",
    "import pickle\n",
    "with open('tokenizer.pickle', 'wb') as handle:\n",
    "    pickle.dump(tokenizer, handle, protocol=pickle.HIGHEST_PROTOCOL)"
   ]
  },
  {
   "cell_type": "code",
   "execution_count": null,
   "id": "586d053a",
   "metadata": {},
   "outputs": [],
   "source": []
  }
 ],
 "metadata": {
  "kernelspec": {
   "display_name": "Python 3",
   "language": "python",
   "name": "python3"
  },
  "language_info": {
   "codemirror_mode": {
    "name": "ipython",
    "version": 3
   },
   "file_extension": ".py",
   "mimetype": "text/x-python",
   "name": "python",
   "nbconvert_exporter": "python",
   "pygments_lexer": "ipython3",
   "version": "3.11.0"
  }
 },
 "nbformat": 4,
 "nbformat_minor": 5
}
